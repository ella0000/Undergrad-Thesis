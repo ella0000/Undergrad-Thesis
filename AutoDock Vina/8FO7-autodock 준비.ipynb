{
 "cells": [
  {
   "cell_type": "markdown",
   "id": "0ac6d732-ce11-4483-9b29-a2c44d2b88ba",
   "metadata": {},
   "source": [
    "### 0. 환경 설정"
   ]
  },
  {
   "cell_type": "code",
   "execution_count": 4,
   "id": "98868e86-4fc4-403d-a310-8ec5d37a294b",
   "metadata": {},
   "outputs": [
    {
     "name": "stdout",
     "output_type": "stream",
     "text": [
      "Requirement already satisfied: py3Dmol in c:\\users\\user\\anaconda3\\lib\\site-packages (2.4.2)\n",
      "Requirement already satisfied: biopython in c:\\users\\user\\anaconda3\\lib\\site-packages (1.84)\n",
      "Requirement already satisfied: numpy in c:\\users\\user\\anaconda3\\lib\\site-packages (from biopython) (1.26.4)\n",
      "Requirement already satisfied: pdb2pqr in c:\\users\\user\\anaconda3\\lib\\site-packages (3.6.2)\n",
      "Requirement already satisfied: mmcif-pdbx>=1.1.2 in c:\\users\\user\\anaconda3\\lib\\site-packages (from pdb2pqr) (2.0.1)\n",
      "Requirement already satisfied: numpy in c:\\users\\user\\anaconda3\\lib\\site-packages (from pdb2pqr) (1.26.4)\n",
      "Requirement already satisfied: propka>=3.5 in c:\\users\\user\\anaconda3\\lib\\site-packages (from pdb2pqr) (3.5.1)\n",
      "Requirement already satisfied: requests in c:\\users\\user\\anaconda3\\lib\\site-packages (from pdb2pqr) (2.32.2)\n",
      "Requirement already satisfied: docutils<0.18 in c:\\users\\user\\anaconda3\\lib\\site-packages (from pdb2pqr) (0.17.1)\n",
      "Requirement already satisfied: charset-normalizer<4,>=2 in c:\\users\\user\\anaconda3\\lib\\site-packages (from requests->pdb2pqr) (2.0.4)\n",
      "Requirement already satisfied: idna<4,>=2.5 in c:\\users\\user\\anaconda3\\lib\\site-packages (from requests->pdb2pqr) (3.7)\n",
      "Requirement already satisfied: urllib3<3,>=1.21.1 in c:\\users\\user\\anaconda3\\lib\\site-packages (from requests->pdb2pqr) (2.2.2)\n",
      "Requirement already satisfied: certifi>=2017.4.17 in c:\\users\\user\\anaconda3\\lib\\site-packages (from requests->pdb2pqr) (2024.8.30)\n",
      "Requirement already satisfied: kora in c:\\users\\user\\anaconda3\\lib\\site-packages (0.9.20)\n",
      "Requirement already satisfied: ipython in c:\\users\\user\\anaconda3\\lib\\site-packages (from kora) (8.25.0)\n",
      "Requirement already satisfied: fastcore in c:\\users\\user\\anaconda3\\lib\\site-packages (from kora) (1.7.20)\n",
      "Requirement already satisfied: packaging in c:\\users\\user\\anaconda3\\lib\\site-packages (from fastcore->kora) (23.2)\n",
      "Requirement already satisfied: decorator in c:\\users\\user\\anaconda3\\lib\\site-packages (from ipython->kora) (5.1.1)\n",
      "Requirement already satisfied: jedi>=0.16 in c:\\users\\user\\anaconda3\\lib\\site-packages (from ipython->kora) (0.18.1)\n",
      "Requirement already satisfied: matplotlib-inline in c:\\users\\user\\anaconda3\\lib\\site-packages (from ipython->kora) (0.1.6)\n",
      "Requirement already satisfied: prompt-toolkit<3.1.0,>=3.0.41 in c:\\users\\user\\anaconda3\\lib\\site-packages (from ipython->kora) (3.0.43)\n",
      "Requirement already satisfied: pygments>=2.4.0 in c:\\users\\user\\anaconda3\\lib\\site-packages (from ipython->kora) (2.15.1)\n",
      "Requirement already satisfied: stack-data in c:\\users\\user\\anaconda3\\lib\\site-packages (from ipython->kora) (0.2.0)\n",
      "Requirement already satisfied: traitlets>=5.13.0 in c:\\users\\user\\anaconda3\\lib\\site-packages (from ipython->kora) (5.14.3)\n",
      "Requirement already satisfied: colorama in c:\\users\\user\\anaconda3\\lib\\site-packages (from ipython->kora) (0.4.6)\n",
      "Requirement already satisfied: parso<0.9.0,>=0.8.0 in c:\\users\\user\\anaconda3\\lib\\site-packages (from jedi>=0.16->ipython->kora) (0.8.3)\n",
      "Requirement already satisfied: wcwidth in c:\\users\\user\\anaconda3\\lib\\site-packages (from prompt-toolkit<3.1.0,>=3.0.41->ipython->kora) (0.2.5)\n",
      "Requirement already satisfied: executing in c:\\users\\user\\anaconda3\\lib\\site-packages (from stack-data->ipython->kora) (0.8.3)\n",
      "Requirement already satisfied: asttokens in c:\\users\\user\\anaconda3\\lib\\site-packages (from stack-data->ipython->kora) (2.0.5)\n",
      "Requirement already satisfied: pure-eval in c:\\users\\user\\anaconda3\\lib\\site-packages (from stack-data->ipython->kora) (0.2.2)\n",
      "Requirement already satisfied: six in c:\\users\\user\\anaconda3\\lib\\site-packages (from asttokens->stack-data->ipython->kora) (1.16.0)\n",
      "Requirement already satisfied: rdkit in c:\\users\\user\\anaconda3\\lib\\site-packages (2024.3.5)\n"
     ]
    }
   ],
   "source": [
    "#Installing py3Dmol using pip\n",
    "!pip install py3Dmol\n",
    "#Installing biopython using pip\n",
    "!pip install biopython\n",
    "#Installing pdb2pqr v3.0 using pip\n",
    "!pip install pdb2pqr\n",
    "#We will also install kora for using RDkit\n",
    "!pip install kora\n",
    "\n",
    "!pip install rdkit"
   ]
  },
  {
   "cell_type": "markdown",
   "id": "0bea5714-60d3-406b-9b62-cf1f423abd17",
   "metadata": {},
   "source": [
    "### 1. Binding box center 찾기"
   ]
  },
  {
   "cell_type": "code",
   "execution_count": 2,
   "id": "46272390-e45e-408b-81ae-b164e3fa10cf",
   "metadata": {},
   "outputs": [
    {
     "name": "stdout",
     "output_type": "stream",
     "text": [
      "208.189 167.35 199.282\n",
      "206.925 166.786 199.624\n",
      "206.414 165.844 198.692\n",
      "207.067 165.537 197.591\n",
      "208.812 167.0 198.138\n",
      "219.085 163.484 196.014\n",
      "219.568 162.504 197.107\n",
      "220.494 163.219 198.037\n",
      "221.801 163.556 197.424\n",
      "219.851 164.413 198.654\n",
      "219.389 165.378 197.548\n",
      "218.438 164.687 196.641\n",
      "217.579 165.573 195.797\n",
      "216.18 165.669 196.455\n",
      "215.114 164.982 195.601\n",
      "217.593 165.205 194.285\n",
      "216.319 165.595 193.51\n",
      "215.087 165.549 194.266\n",
      "213.912 166.017 193.745\n",
      "213.939 166.495 192.574\n",
      "212.63 166.015 194.383\n",
      "211.829 164.883 194.304\n",
      "210.572 164.837 194.913\n",
      "209.74 163.753 194.875\n",
      "210.109 162.632 194.055\n",
      "212.127 167.125 195.107\n",
      "210.87 167.084 195.722\n",
      "210.078 165.931 195.625\n",
      "208.838 165.726 196.166\n",
      "208.249 166.104 197.309\n",
      "208.796 168.268 200.093\n",
      "210.236 168.255 200.045\n",
      "208.149 169.466 200.332\n",
      "208.768 170.677 199.929\n",
      "208.136 171.901 200.156\n",
      "206.891 171.957 200.776\n",
      "206.26 170.782 201.179\n",
      "206.878 169.538 200.957\n",
      "206.158 168.351 201.41\n",
      "205.46 168.493 202.443\n",
      "206.17 167.072 200.811\n",
      "205.387 166.02 201.404\n",
      "Ligand Geom:\n",
      " [[208.189, 167.35, 199.282], [206.925, 166.786, 199.624], [206.414, 165.844, 198.692], [207.067, 165.537, 197.591], [208.812, 167.0, 198.138], [219.085, 163.484, 196.014], [219.568, 162.504, 197.107], [220.494, 163.219, 198.037], [221.801, 163.556, 197.424], [219.851, 164.413, 198.654], [219.389, 165.378, 197.548], [218.438, 164.687, 196.641], [217.579, 165.573, 195.797], [216.18, 165.669, 196.455], [215.114, 164.982, 195.601], [217.593, 165.205, 194.285], [216.319, 165.595, 193.51], [215.087, 165.549, 194.266], [213.912, 166.017, 193.745], [213.939, 166.495, 192.574], [212.63, 166.015, 194.383], [211.829, 164.883, 194.304], [210.572, 164.837, 194.913], [209.74, 163.753, 194.875], [210.109, 162.632, 194.055], [212.127, 167.125, 195.107], [210.87, 167.084, 195.722], [210.078, 165.931, 195.625], [208.838, 165.726, 196.166], [208.249, 166.104, 197.309], [208.796, 168.268, 200.093], [210.236, 168.255, 200.045], [208.149, 169.466, 200.332], [208.768, 170.677, 199.929], [208.136, 171.901, 200.156], [206.891, 171.957, 200.776], [206.26, 170.782, 201.179], [206.878, 169.538, 200.957], [206.158, 168.351, 201.41], [205.46, 168.493, 202.443], [206.17, 167.072, 200.811], [205.387, 166.02, 201.404]]\n",
      "Geometric Center of a ligand:  211.764  166.422  197.452\n"
     ]
    }
   ],
   "source": [
    "import numpy as np\n",
    "with open('8fo7.pdb', 'r') as f:\n",
    "  ligand_geom = []\n",
    "  for l in f:\n",
    "    if l.startswith('HETATM') and l[17:20]=='4K4':   #4K4(LRRK2-IN-1)이 결합해있음\n",
    "      x, y, z = float(l[30:38]), float(l[38:46]), float(l[46:54])\n",
    "      print(x,y,z)\n",
    "      ligand_geom.append([x,y,z])\n",
    "  print(\"Ligand Geom:\\n\", ligand_geom)\n",
    "  ligand_geom = np.array(ligand_geom)\n",
    "  ligand_center = ligand_geom.mean(axis=0)\n",
    "  print(f\"Geometric Center of a ligand: {ligand_center[0]:8.3f} {ligand_center[1]:8.3f} {ligand_center[2]:8.3f}\")"
   ]
  },
  {
   "cell_type": "code",
   "execution_count": null,
   "id": "f7a9ad3e-d6f0-4507-8ef1-5d6b8930e279",
   "metadata": {},
   "outputs": [],
   "source": []
  }
 ],
 "metadata": {
  "kernelspec": {
   "display_name": "Python 3 (ipykernel)",
   "language": "python",
   "name": "python3"
  },
  "language_info": {
   "codemirror_mode": {
    "name": "ipython",
    "version": 3
   },
   "file_extension": ".py",
   "mimetype": "text/x-python",
   "name": "python",
   "nbconvert_exporter": "python",
   "pygments_lexer": "ipython3",
   "version": "3.12.7"
  }
 },
 "nbformat": 4,
 "nbformat_minor": 5
}
